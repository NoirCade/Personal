{
 "cells": [
  {
   "cell_type": "code",
   "execution_count": 1,
   "metadata": {},
   "outputs": [],
   "source": [
    "import numpy as np\n",
    "import pandas as pd\n",
    "import matplotlib.pyplot as plt\n",
    "from sklearn.model_selection import train_test_split\n",
    "from sklearn.svm import LinearSVC\n",
    "from sklearn.metrics import r2_score"
   ]
  },
  {
   "cell_type": "code",
   "execution_count": 6,
   "metadata": {},
   "outputs": [],
   "source": [
    "# import data\n",
    "\n",
    "raw_train_df = pd.read_csv('C:/Users/user/Desktop/Personal/raw data/train.csv')\n",
    "raw_test_df = pd.read_csv('C:/Users/user/Desktop/Personal/raw data/test.csv')\n",
    "raw_sample_df = pd.read_csv('C:/Users/user/Desktop/Personal/raw data/gender_submission.csv')"
   ]
  },
  {
   "cell_type": "code",
   "execution_count": 25,
   "metadata": {},
   "outputs": [],
   "source": [
    "# 예측에 필요없는 부분 제거\n",
    "\n",
    "sliced_train_df = raw_train_df.drop(columns=['Name', 'SibSp', 'Parch', 'Ticket', 'Fare', 'Cabin', 'Embarked'])\n",
    "sliced_test_df = raw_test_df.drop(columns=['Name', 'SibSp', 'Parch', 'Ticket', 'Fare', 'Cabin', 'Embarked'])\n",
    "\n",
    "# 라벨 분리\n",
    "y_train = sliced_train_df['Survived']\n",
    "X_train = sliced_train_df.drop(columns=['Survived'])"
   ]
  },
  {
   "cell_type": "code",
   "execution_count": 26,
   "metadata": {},
   "outputs": [
    {
     "name": "stdout",
     "output_type": "stream",
     "text": [
      "     PassengerId  Pclass     Sex   Age\n",
      "0              1       3    male  22.0\n",
      "1              2       1  female  38.0\n",
      "2              3       3  female  26.0\n",
      "3              4       1  female  35.0\n",
      "4              5       3    male  35.0\n",
      "..           ...     ...     ...   ...\n",
      "886          887       2    male  27.0\n",
      "887          888       1  female  19.0\n",
      "888          889       3  female   NaN\n",
      "889          890       1    male  26.0\n",
      "890          891       3    male  32.0\n",
      "\n",
      "[891 rows x 4 columns]\n"
     ]
    }
   ],
   "source": []
  },
  {
   "cell_type": "code",
   "execution_count": null,
   "metadata": {},
   "outputs": [],
   "source": [
    "svm_svc = LinearSVC()\n",
    "svm_svc.fit(X_train, y_train)"
   ]
  }
 ],
 "metadata": {
  "kernelspec": {
   "display_name": "Python 3.10.8 64-bit",
   "language": "python",
   "name": "python3"
  },
  "language_info": {
   "codemirror_mode": {
    "name": "ipython",
    "version": 3
   },
   "file_extension": ".py",
   "mimetype": "text/x-python",
   "name": "python",
   "nbconvert_exporter": "python",
   "pygments_lexer": "ipython3",
   "version": "3.10.8"
  },
  "orig_nbformat": 4,
  "vscode": {
   "interpreter": {
    "hash": "fb4569285eef3a3450cb62085a5b1e0da4bce0af555edc33dcf29baf3acc1368"
   }
  }
 },
 "nbformat": 4,
 "nbformat_minor": 2
}
